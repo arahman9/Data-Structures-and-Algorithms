{
  "metadata": {
    "language_info": {
      "codemirror_mode": {
        "name": "python",
        "version": 3
      },
      "file_extension": ".py",
      "mimetype": "text/x-python",
      "name": "python",
      "nbconvert_exporter": "python",
      "pygments_lexer": "ipython3",
      "version": "3.8"
    },
    "kernelspec": {
      "name": "python",
      "display_name": "Pyolite",
      "language": "python"
    }
  },
  "nbformat_minor": 4,
  "nbformat": 4,
  "cells": [
    {
      "cell_type": "markdown",
      "source": "# Analyzing Algorithms",
      "metadata": {}
    },
    {
      "cell_type": "markdown",
      "source": "Analyzing algorithm means to predict the resources that the algorithm uses",
      "metadata": {}
    },
    {
      "cell_type": "markdown",
      "source": "RAM model -> instructions are executed one after the other",
      "metadata": {}
    },
    {
      "cell_type": "markdown",
      "source": "Assume Data is interger and floating point(for storing real number)\n\nAssume Limit on the size of each word of data. F.E ->  inputs of size n, we assume integers are represented by c * lg * n bits for some constant c>= 1\n\n",
      "metadata": {}
    },
    {
      "cell_type": "code",
      "source": "Shift left -> shifting integer to left equavelent to multiplying by 2, shifting k to the left ",
      "metadata": {},
      "execution_count": null,
      "outputs": []
    }
  ]
}